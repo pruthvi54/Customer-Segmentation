{
  "nbformat": 4,
  "nbformat_minor": 0,
  "metadata": {
    "colab": {
      "name": "ClusterAn",
      "provenance": [],
      "collapsed_sections": [],
      "toc_visible": true
    },
    "kernelspec": {
      "name": "python3",
      "display_name": "Python 3"
    }
  },
  "cells": [
    {
      "cell_type": "code",
      "metadata": {
        "id": "vdqTurkmxvaG"
      },
      "source": [
        "#Importing Required Packages\n",
        "import pandas as pd\n",
        "import numpy as np"
      ],
      "execution_count": null,
      "outputs": []
    },
    {
      "cell_type": "code",
      "metadata": {
        "id": "XpEod55DzH9V",
        "colab": {
          "base_uri": "https://localhost:8080/",
          "height": 340
        },
        "outputId": "9a52b003-19c3-4c02-f6ed-87ff91dccae4"
      },
      "source": [
        "#importing the dataset from github\n",
        "url = 'https://raw.githubusercontent.com/mufeezmomin30/pqrs/master/PAFInal.xlsx'\n",
        "df1 = pd.read_excel(url)    #Merging the date and time column for further analysis\n",
        "df1.dtypes"
      ],
      "execution_count": null,
      "outputs": [
        {
          "output_type": "execute_result",
          "data": {
            "text/plain": [
              "Invoice ID                  object\n",
              "Branch                      object\n",
              "City                        object\n",
              "Customer type               object\n",
              "Gender                      object\n",
              "Product line                object\n",
              "Expected Income              int64\n",
              "Unit price                 float64\n",
              "Quantity                     int64\n",
              "Tax 5%                     float64\n",
              "Total                      float64\n",
              "Date                        object\n",
              "Time                       float64\n",
              "Payment                     object\n",
              "cogs                       float64\n",
              "gross margin percentage    float64\n",
              "gross income               float64\n",
              "Rating                     float64\n",
              "dtype: object"
            ]
          },
          "metadata": {
            "tags": []
          },
          "execution_count": 52
        }
      ]
    },
    {
      "cell_type": "code",
      "metadata": {
        "id": "n6y0OwYVGisD",
        "colab": {
          "base_uri": "https://localhost:8080/",
          "height": 351
        },
        "outputId": "88c622a0-8fd5-4881-871a-20f410ceb9da"
      },
      "source": [
        "#Checking the summary of data to see if there is any outlier\n",
        "df1.describe()"
      ],
      "execution_count": null,
      "outputs": [
        {
          "output_type": "execute_result",
          "data": {
            "text/html": [
              "<div>\n",
              "<style scoped>\n",
              "    .dataframe tbody tr th:only-of-type {\n",
              "        vertical-align: middle;\n",
              "    }\n",
              "\n",
              "    .dataframe tbody tr th {\n",
              "        vertical-align: top;\n",
              "    }\n",
              "\n",
              "    .dataframe thead th {\n",
              "        text-align: right;\n",
              "    }\n",
              "</style>\n",
              "<table border=\"1\" class=\"dataframe\">\n",
              "  <thead>\n",
              "    <tr style=\"text-align: right;\">\n",
              "      <th></th>\n",
              "      <th>Expected Income</th>\n",
              "      <th>Unit price</th>\n",
              "      <th>Quantity</th>\n",
              "      <th>Tax 5%</th>\n",
              "      <th>Total</th>\n",
              "      <th>Time</th>\n",
              "      <th>cogs</th>\n",
              "      <th>gross margin percentage</th>\n",
              "      <th>gross income</th>\n",
              "      <th>Rating</th>\n",
              "    </tr>\n",
              "  </thead>\n",
              "  <tbody>\n",
              "    <tr>\n",
              "      <th>count</th>\n",
              "      <td>1000.000000</td>\n",
              "      <td>1000.000000</td>\n",
              "      <td>1000.000000</td>\n",
              "      <td>1000.000000</td>\n",
              "      <td>1000.000000</td>\n",
              "      <td>1000.000000</td>\n",
              "      <td>1000.00000</td>\n",
              "      <td>1.000000e+03</td>\n",
              "      <td>1000.000000</td>\n",
              "      <td>1000.00000</td>\n",
              "    </tr>\n",
              "    <tr>\n",
              "      <th>mean</th>\n",
              "      <td>6211.846000</td>\n",
              "      <td>55.672130</td>\n",
              "      <td>5.510000</td>\n",
              "      <td>15.379369</td>\n",
              "      <td>322.966749</td>\n",
              "      <td>0.642151</td>\n",
              "      <td>307.58738</td>\n",
              "      <td>4.761905e+00</td>\n",
              "      <td>15.379369</td>\n",
              "      <td>6.97270</td>\n",
              "    </tr>\n",
              "    <tr>\n",
              "      <th>std</th>\n",
              "      <td>2468.088066</td>\n",
              "      <td>26.494628</td>\n",
              "      <td>2.923431</td>\n",
              "      <td>11.708825</td>\n",
              "      <td>245.885335</td>\n",
              "      <td>0.133005</td>\n",
              "      <td>234.17651</td>\n",
              "      <td>6.131498e-14</td>\n",
              "      <td>11.708825</td>\n",
              "      <td>1.71858</td>\n",
              "    </tr>\n",
              "    <tr>\n",
              "      <th>min</th>\n",
              "      <td>2246.000000</td>\n",
              "      <td>10.080000</td>\n",
              "      <td>1.000000</td>\n",
              "      <td>0.508500</td>\n",
              "      <td>10.678500</td>\n",
              "      <td>0.416667</td>\n",
              "      <td>10.17000</td>\n",
              "      <td>4.761905e+00</td>\n",
              "      <td>0.508500</td>\n",
              "      <td>4.00000</td>\n",
              "    </tr>\n",
              "    <tr>\n",
              "      <th>25%</th>\n",
              "      <td>4165.000000</td>\n",
              "      <td>32.875000</td>\n",
              "      <td>3.000000</td>\n",
              "      <td>5.924875</td>\n",
              "      <td>124.422375</td>\n",
              "      <td>0.529861</td>\n",
              "      <td>118.49750</td>\n",
              "      <td>4.761905e+00</td>\n",
              "      <td>5.924875</td>\n",
              "      <td>5.50000</td>\n",
              "    </tr>\n",
              "    <tr>\n",
              "      <th>50%</th>\n",
              "      <td>5968.500000</td>\n",
              "      <td>55.230000</td>\n",
              "      <td>5.000000</td>\n",
              "      <td>12.088000</td>\n",
              "      <td>253.848000</td>\n",
              "      <td>0.638194</td>\n",
              "      <td>241.76000</td>\n",
              "      <td>4.761905e+00</td>\n",
              "      <td>12.088000</td>\n",
              "      <td>7.00000</td>\n",
              "    </tr>\n",
              "    <tr>\n",
              "      <th>75%</th>\n",
              "      <td>8015.750000</td>\n",
              "      <td>77.935000</td>\n",
              "      <td>8.000000</td>\n",
              "      <td>22.445250</td>\n",
              "      <td>471.350250</td>\n",
              "      <td>0.760417</td>\n",
              "      <td>448.90500</td>\n",
              "      <td>4.761905e+00</td>\n",
              "      <td>22.445250</td>\n",
              "      <td>8.50000</td>\n",
              "    </tr>\n",
              "    <tr>\n",
              "      <th>max</th>\n",
              "      <td>11439.000000</td>\n",
              "      <td>99.960000</td>\n",
              "      <td>10.000000</td>\n",
              "      <td>49.650000</td>\n",
              "      <td>1042.650000</td>\n",
              "      <td>0.874306</td>\n",
              "      <td>993.00000</td>\n",
              "      <td>4.761905e+00</td>\n",
              "      <td>49.650000</td>\n",
              "      <td>10.00000</td>\n",
              "    </tr>\n",
              "  </tbody>\n",
              "</table>\n",
              "</div>"
            ],
            "text/plain": [
              "       Expected Income   Unit price  ...  gross income      Rating\n",
              "count      1000.000000  1000.000000  ...   1000.000000  1000.00000\n",
              "mean       6211.846000    55.672130  ...     15.379369     6.97270\n",
              "std        2468.088066    26.494628  ...     11.708825     1.71858\n",
              "min        2246.000000    10.080000  ...      0.508500     4.00000\n",
              "25%        4165.000000    32.875000  ...      5.924875     5.50000\n",
              "50%        5968.500000    55.230000  ...     12.088000     7.00000\n",
              "75%        8015.750000    77.935000  ...     22.445250     8.50000\n",
              "max       11439.000000    99.960000  ...     49.650000    10.00000\n",
              "\n",
              "[8 rows x 10 columns]"
            ]
          },
          "metadata": {
            "tags": []
          },
          "execution_count": 53
        }
      ]
    },
    {
      "cell_type": "code",
      "metadata": {
        "id": "hrDHplLCGvK9"
      },
      "source": [
        "#There seems to be no outlier\n",
        "#Dropping gross margin percentage column since there is only one value and City since one branch is serving only one city\n",
        "#We will also drop Invocie Id since it is of no use for further analysis\n",
        "df2 = df1.drop(['gross margin percentage','City','Invoice ID'], axis = 1)"
      ],
      "execution_count": null,
      "outputs": []
    },
    {
      "cell_type": "code",
      "metadata": {
        "id": "9Naf6H9wJew6",
        "colab": {
          "base_uri": "https://localhost:8080/",
          "height": 224
        },
        "outputId": "e69bac99-1e89-48d0-83b6-b169b2a5e60e"
      },
      "source": [
        "#Installing Category Encoders module for converting text columns into numerical form for further analysis \n",
        "!pip install --upgrade category_encoders"
      ],
      "execution_count": null,
      "outputs": [
        {
          "output_type": "stream",
          "text": [
            "Requirement already up-to-date: category_encoders in /usr/local/lib/python3.6/dist-packages (2.2.2)\n",
            "Requirement already satisfied, skipping upgrade: patsy>=0.5.1 in /usr/local/lib/python3.6/dist-packages (from category_encoders) (0.5.1)\n",
            "Requirement already satisfied, skipping upgrade: statsmodels>=0.9.0 in /usr/local/lib/python3.6/dist-packages (from category_encoders) (0.10.2)\n",
            "Requirement already satisfied, skipping upgrade: numpy>=1.14.0 in /usr/local/lib/python3.6/dist-packages (from category_encoders) (1.18.5)\n",
            "Requirement already satisfied, skipping upgrade: pandas>=0.21.1 in /usr/local/lib/python3.6/dist-packages (from category_encoders) (1.1.2)\n",
            "Requirement already satisfied, skipping upgrade: scikit-learn>=0.20.0 in /usr/local/lib/python3.6/dist-packages (from category_encoders) (0.22.2.post1)\n",
            "Requirement already satisfied, skipping upgrade: scipy>=1.0.0 in /usr/local/lib/python3.6/dist-packages (from category_encoders) (1.4.1)\n",
            "Requirement already satisfied, skipping upgrade: six in /usr/local/lib/python3.6/dist-packages (from patsy>=0.5.1->category_encoders) (1.15.0)\n",
            "Requirement already satisfied, skipping upgrade: python-dateutil>=2.7.3 in /usr/local/lib/python3.6/dist-packages (from pandas>=0.21.1->category_encoders) (2.8.1)\n",
            "Requirement already satisfied, skipping upgrade: pytz>=2017.2 in /usr/local/lib/python3.6/dist-packages (from pandas>=0.21.1->category_encoders) (2018.9)\n",
            "Requirement already satisfied, skipping upgrade: joblib>=0.11 in /usr/local/lib/python3.6/dist-packages (from scikit-learn>=0.20.0->category_encoders) (0.16.0)\n"
          ],
          "name": "stdout"
        }
      ]
    },
    {
      "cell_type": "code",
      "metadata": {
        "id": "iTpJURV_MP4J"
      },
      "source": [
        "#Now we will encode categorical columns into some numbers. We will use CatBoostEncoder module for the same\n",
        "\n",
        "cbedata = df2.copy()\n",
        "\n",
        "labels = pd.Series(df2['Total'])\n",
        "\n",
        "# Defining the categorical columns: \n",
        "catcols = ['Customer type', 'Gender','Payment']\n",
        "\n",
        "# Importing CatBoostEncoder\n",
        "from category_encoders import CatBoostEncoder\n",
        "\n",
        "ce = CatBoostEncoder()\n",
        "\n",
        "# Fitting it on the data:\n",
        "ce.fit(cbedata[catcols], labels)\n",
        "\n",
        "# Transforming the data:\n",
        "cbedata[catcols] = ce.transform(cbedata[catcols])\n",
        "df = cbedata"
      ],
      "execution_count": null,
      "outputs": []
    },
    {
      "cell_type": "code",
      "metadata": {
        "id": "e21_YTDfz7mF"
      },
      "source": [
        "#Impoting only columns that are required for Clustering\n",
        "dfap = df[['Gender','Expected Income','Customer type','Total']]"
      ],
      "execution_count": null,
      "outputs": []
    },
    {
      "cell_type": "markdown",
      "metadata": {
        "id": "0dovqCtVHc00"
      },
      "source": [
        "## Cluster Analysis"
      ]
    },
    {
      "cell_type": "code",
      "metadata": {
        "id": "NJIwQOZNQk9O",
        "colab": {
          "base_uri": "https://localhost:8080/",
          "height": 400
        },
        "outputId": "cdead1a1-6b9d-4278-b320-e17f87f88ccc"
      },
      "source": [
        "from copy import deepcopy\n",
        "import numpy as np\n",
        "import matplotlib.pyplot as plot\n",
        "import pandas as pd\n",
        "from sklearn.cluster import KMeans\n",
        "X = xa1 = dfap[['Gender','Expected Income','Total']].values #Importing columns for Cluster Analysis\n",
        "\n",
        "#Find the number of clusters\n",
        "wcss = []\n",
        "\n",
        "for i in range (1,16): #15 cluster\n",
        "    kmeans = KMeans(n_clusters = i, init='k-means++', random_state=0) \n",
        "    kmeans.fit(X)\n",
        "    wcss.append(kmeans.inertia_)\n",
        "\n",
        "plot.plot(range(1,16),wcss)\n",
        "plot.title('Elbow Method')\n",
        "plot.xlabel('Number of clusters')\n",
        "plot.ylabel('wcss')\n",
        "plot.show()\n",
        "\n",
        "#KMeans clustering\n",
        "kmeans= KMeans(n_clusters=3,init='k-means++', random_state=0)\n",
        "y=kmeans.fit_predict(X)\n",
        "\n",
        "dfap['cluster'] = y\n",
        "dfap.to_csv('adsad.csv')"
      ],
      "execution_count": null,
      "outputs": [
        {
          "output_type": "display_data",
          "data": {
            "image/png": "[encoded data removed]",
            "text/plain": [
              "<Figure size 432x288 with 1 Axes>"
            ]
          },
          "metadata": {
            "tags": [],
            "needs_background": "light"
          }
        },
        {
          "output_type": "stream",
          "text": [
            "/usr/local/lib/python3.6/dist-packages/ipykernel_launcher.py:26: SettingWithCopyWarning: \n",
            "A value is trying to be set on a copy of a slice from a DataFrame.\n",
            "Try using .loc[row_indexer,col_indexer] = value instead\n",
            "\n",
            "See the caveats in the documentation: https://pandas.pydata.org/pandas-docs/stable/user_guide/indexing.html#returning-a-view-versus-a-copy\n"
          ],
          "name": "stderr"
        }
      ]
    },
    {
      "cell_type": "code",
      "metadata": {
        "id": "NCVmKiuEIMqB"
      },
      "source": [
        "df1['cluster'] = dfap['cluster']"
      ],
      "execution_count": null,
      "outputs": []
    },
    {
      "cell_type": "code",
      "metadata": {
        "id": "DSV5doEESDIR"
      },
      "source": [
        "result = df1.groupby(['cluster']).agg({'Gender': ['count'],'Expected Income': ['mean', 'min', 'max'],'Total': ['mean', 'min', 'max']})"
      ],
      "execution_count": null,
      "outputs": []
    },
    {
      "cell_type": "code",
      "metadata": {
        "id": "Qv_vnsI5SZSL",
        "colab": {
          "base_uri": "https://localhost:8080/",
          "height": 204
        },
        "outputId": "f033019d-e0a0-4715-fbb8-db6d681290da"
      },
      "source": [
        "result"
      ],
      "execution_count": null,
      "outputs": [
        {
          "output_type": "execute_result",
          "data": {
            "text/html": [
              "<div>\n",
              "<style scoped>\n",
              "    .dataframe tbody tr th:only-of-type {\n",
              "        vertical-align: middle;\n",
              "    }\n",
              "\n",
              "    .dataframe tbody tr th {\n",
              "        vertical-align: top;\n",
              "    }\n",
              "\n",
              "    .dataframe thead tr th {\n",
              "        text-align: left;\n",
              "    }\n",
              "\n",
              "    .dataframe thead tr:last-of-type th {\n",
              "        text-align: right;\n",
              "    }\n",
              "</style>\n",
              "<table border=\"1\" class=\"dataframe\">\n",
              "  <thead>\n",
              "    <tr>\n",
              "      <th></th>\n",
              "      <th>Gender</th>\n",
              "      <th colspan=\"3\" halign=\"left\">Expected Income</th>\n",
              "      <th colspan=\"3\" halign=\"left\">Total</th>\n",
              "    </tr>\n",
              "    <tr>\n",
              "      <th></th>\n",
              "      <th>count</th>\n",
              "      <th>mean</th>\n",
              "      <th>min</th>\n",
              "      <th>max</th>\n",
              "      <th>mean</th>\n",
              "      <th>min</th>\n",
              "      <th>max</th>\n",
              "    </tr>\n",
              "    <tr>\n",
              "      <th>cluster</th>\n",
              "      <th></th>\n",
              "      <th></th>\n",
              "      <th></th>\n",
              "      <th></th>\n",
              "      <th></th>\n",
              "      <th></th>\n",
              "      <th></th>\n",
              "    </tr>\n",
              "  </thead>\n",
              "  <tbody>\n",
              "    <tr>\n",
              "      <th>0</th>\n",
              "      <td>359</td>\n",
              "      <td>6557.877437</td>\n",
              "      <td>5173</td>\n",
              "      <td>8078</td>\n",
              "      <td>276.733905</td>\n",
              "      <td>12.6945</td>\n",
              "      <td>1034.460</td>\n",
              "    </tr>\n",
              "    <tr>\n",
              "      <th>1</th>\n",
              "      <td>395</td>\n",
              "      <td>3756.544304</td>\n",
              "      <td>2246</td>\n",
              "      <td>5153</td>\n",
              "      <td>175.859237</td>\n",
              "      <td>10.6785</td>\n",
              "      <td>416.178</td>\n",
              "    </tr>\n",
              "    <tr>\n",
              "      <th>2</th>\n",
              "      <td>246</td>\n",
              "      <td>9649.321138</td>\n",
              "      <td>8068</td>\n",
              "      <td>11439</td>\n",
              "      <td>626.645848</td>\n",
              "      <td>399.7560</td>\n",
              "      <td>1042.650</td>\n",
              "    </tr>\n",
              "  </tbody>\n",
              "</table>\n",
              "</div>"
            ],
            "text/plain": [
              "        Gender Expected Income                    Total                    \n",
              "         count            mean   min    max        mean       min       max\n",
              "cluster                                                                    \n",
              "0          359     6557.877437  5173   8078  276.733905   12.6945  1034.460\n",
              "1          395     3756.544304  2246   5153  175.859237   10.6785   416.178\n",
              "2          246     9649.321138  8068  11439  626.645848  399.7560  1042.650"
            ]
          },
          "metadata": {
            "tags": []
          },
          "execution_count": 61
        }
      ]
    },
    {
      "cell_type": "code",
      "metadata": {
        "id": "MT19XgIwTEWs",
        "colab": {
          "base_uri": "https://localhost:8080/",
          "height": 153
        },
        "outputId": "22ebe42f-2d6a-47d7-814f-f3fdffc31341"
      },
      "source": [
        "df1.groupby(['cluster','Gender'])['Gender'].count()"
      ],
      "execution_count": null,
      "outputs": [
        {
          "output_type": "execute_result",
          "data": {
            "text/plain": [
              "cluster  Gender\n",
              "0        Female    181\n",
              "         Male      178\n",
              "1        Female    199\n",
              "         Male      196\n",
              "2        Female    121\n",
              "         Male      125\n",
              "Name: Gender, dtype: int64"
            ]
          },
          "metadata": {
            "tags": []
          },
          "execution_count": 62
        }
      ]
    },
    {
      "cell_type": "code",
      "metadata": {
        "id": "MzCjAt26V9p8",
        "colab": {
          "base_uri": "https://localhost:8080/",
          "height": 357
        },
        "outputId": "4b41056a-777d-4411-abd4-c673d134b5b6"
      },
      "source": [
        "df1.groupby(['cluster','Product line'])['Total'].mean()"
      ],
      "execution_count": null,
      "outputs": [
        {
          "output_type": "execute_result",
          "data": {
            "text/plain": [
              "cluster  Product line          \n",
              "0        Electronic accessories    268.568809\n",
              "         Fashion accessories       256.039831\n",
              "         Food and beverages        303.919520\n",
              "         Health and beauty         244.572336\n",
              "         Home and lifestyle        306.463138\n",
              "         Sports and travel         273.086100\n",
              "1        Electronic accessories    163.990331\n",
              "         Fashion accessories       176.151589\n",
              "         Food and beverages        194.575657\n",
              "         Health and beauty         186.756306\n",
              "         Home and lifestyle        163.047098\n",
              "         Sports and travel         172.029000\n",
              "2        Electronic accessories    634.612125\n",
              "         Fashion accessories       632.089238\n",
              "         Food and beverages        624.794864\n",
              "         Health and beauty         623.092575\n",
              "         Home and lifestyle        637.589707\n",
              "         Sports and travel         609.693000\n",
              "Name: Total, dtype: float64"
            ]
          },
          "metadata": {
            "tags": []
          },
          "execution_count": 63
        }
      ]
    },
    {
      "cell_type": "code",
      "metadata": {
        "id": "jiIUp2kCTZKI",
        "colab": {
          "base_uri": "https://localhost:8080/",
          "height": 51
        },
        "outputId": "c78f08ad-b058-4096-be8a-dce0cb4369b6"
      },
      "source": [
        "!jupyter nbconvert --to HTML ClusterAn.ipynb"
      ],
      "execution_count": null,
      "outputs": [
        {
          "output_type": "stream",
          "text": [
            "[NbConvertApp] Converting notebook ClusterAn.ipynb to HTML\n",
            "[NbConvertApp] Writing 311260 bytes to ClusterAn.html\n"
          ],
          "name": "stdout"
        }
      ]
    },
    {
      "cell_type": "code",
      "metadata": {
        "id": "U_LVSz6GT04h"
      },
      "source": [
        "df1.to_csv('PA Final Data.csv')"
      ],
      "execution_count": null,
      "outputs": []
    },
    {
      "cell_type": "code",
      "metadata": {
        "id": "pLLz3Chyeqei"
      },
      "source": [
        ""
      ],
      "execution_count": null,
      "outputs": []
    }
  ]
}